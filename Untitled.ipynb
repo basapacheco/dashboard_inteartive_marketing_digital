{
 "cells": [
  {
   "cell_type": "code",
   "execution_count": 4,
   "id": "9360592c-b311-440e-9b68-29abdb8db597",
   "metadata": {
    "tags": []
   },
   "outputs": [
    {
     "name": "stdout",
     "output_type": "stream",
     "text": [
      "Archivos client_secret.json y config.json creados con éxito.\n"
     ]
    }
   ],
   "source": [
    "# Bloque 1: Crear los archivos de configuración\n",
    "import json\n",
    "\n",
    "# Contenido del archivo client_secret.json\n",
    "client_secret_content = {\n",
    "    \"web\": {\n",
    "        \"client_id\": \"1038806829839-i0os4idivvupurh7mkpstcffu1oa52ce.apps.googleusercontent.com\",\n",
    "        \"project_id\": \"marketingdashboardproject\",\n",
    "        \"auth_uri\": \"https://accounts.google.com/o/oauth2/auth\",\n",
    "        \"token_uri\": \"https://oauth2.googleapis.com/token\",\n",
    "        \"auth_provider_x509_cert_url\": \"https://www.googleapis.com/oauth2/v1/certs\",\n",
    "        \"client_secret\": \"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\",\n",
    "        \"redirect_uris\": [\"http://localhost\"],\n",
    "        \"javascript_origins\": [\"http://localhost\"]\n",
    "    }\n",
    "}\n",
    "\n",
    "# Crear el archivo client_secret.json\n",
    "with open('client_secret.json', 'w') as json_file:\n",
    "    json.dump(client_secret_content, json_file, indent=4)\n",
    "\n",
    "# Contenido del archivo config.json\n",
    "config_content = {\n",
    "    \"google_analytics\": {\n",
    "        \"client_id\": \"1038806829839-i0os4idivvupurh7mkpstcffu1oa52ce.apps.googleusercontent.com\",\n",
    "        \"client_secret\": \"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\",\n",
    "        \"redirect_uri\": \"http://localhost\"\n",
    "    },\n",
    "    \"facebook\": {\n",
    "        \"access_token\": \"TU_TOKEN_DE_ACESSO\"\n",
    "    }\n",
    "}\n",
    "\n",
    "# Crear el archivo config.json\n",
    "with open('config.json', 'w') as json_file:\n",
    "    json.dump(config_content, json_file, indent=4)\n",
    "\n",
    "print(\"Archivos client_secret.json y config.json creados con éxito.\")\n"
   ]
  },
  {
   "cell_type": "code",
   "execution_count": 5,
   "id": "24713481-7be9-499d-9bbc-4671f4164364",
   "metadata": {
    "tags": []
   },
   "outputs": [
    {
     "ename": "PermissionError",
     "evalue": "[Errno 1] Operation not permitted: '.gitignore'",
     "output_type": "error",
     "traceback": [
      "\u001b[0;31m---------------------------------------------------------------------------\u001b[0m",
      "\u001b[0;31mPermissionError\u001b[0m                           Traceback (most recent call last)",
      "Cell \u001b[0;32mIn[5], line 11\u001b[0m\n\u001b[1;32m      3\u001b[0m gitignore_content \u001b[38;5;241m=\u001b[39m \u001b[38;5;124m\"\"\"\u001b[39m\n\u001b[1;32m      4\u001b[0m \u001b[38;5;124m# Credenciales y configuraciones sensibles\u001b[39m\n\u001b[1;32m      5\u001b[0m \u001b[38;5;124mclient_secret.json\u001b[39m\n\u001b[1;32m      6\u001b[0m \u001b[38;5;124mconfig.json\u001b[39m\n\u001b[1;32m      7\u001b[0m \u001b[38;5;124mtoken.json\u001b[39m\n\u001b[1;32m      8\u001b[0m \u001b[38;5;124m\"\"\"\u001b[39m\n\u001b[1;32m     10\u001b[0m \u001b[38;5;66;03m# Añadir el contenido al final del archivo .gitignore\u001b[39;00m\n\u001b[0;32m---> 11\u001b[0m \u001b[38;5;28;01mwith\u001b[39;00m \u001b[38;5;28mopen\u001b[39m(\u001b[38;5;124m'\u001b[39m\u001b[38;5;124m.gitignore\u001b[39m\u001b[38;5;124m'\u001b[39m, \u001b[38;5;124m'\u001b[39m\u001b[38;5;124ma\u001b[39m\u001b[38;5;124m'\u001b[39m) \u001b[38;5;28;01mas\u001b[39;00m gitignore_file:\n\u001b[1;32m     12\u001b[0m     gitignore_file\u001b[38;5;241m.\u001b[39mwrite(gitignore_content)\n\u001b[1;32m     14\u001b[0m \u001b[38;5;28mprint\u001b[39m(\u001b[38;5;124m\"\u001b[39m\u001b[38;5;124mArchivo .gitignore actualizado con éxito.\u001b[39m\u001b[38;5;124m\"\u001b[39m)\n",
      "File \u001b[0;32m~/anaconda3/lib/python3.11/site-packages/IPython/core/interactiveshell.py:286\u001b[0m, in \u001b[0;36m_modified_open\u001b[0;34m(file, *args, **kwargs)\u001b[0m\n\u001b[1;32m    279\u001b[0m \u001b[38;5;28;01mif\u001b[39;00m file \u001b[38;5;129;01min\u001b[39;00m {\u001b[38;5;241m0\u001b[39m, \u001b[38;5;241m1\u001b[39m, \u001b[38;5;241m2\u001b[39m}:\n\u001b[1;32m    280\u001b[0m     \u001b[38;5;28;01mraise\u001b[39;00m \u001b[38;5;167;01mValueError\u001b[39;00m(\n\u001b[1;32m    281\u001b[0m         \u001b[38;5;124mf\u001b[39m\u001b[38;5;124m\"\u001b[39m\u001b[38;5;124mIPython won\u001b[39m\u001b[38;5;124m'\u001b[39m\u001b[38;5;124mt let you open fd=\u001b[39m\u001b[38;5;132;01m{\u001b[39;00mfile\u001b[38;5;132;01m}\u001b[39;00m\u001b[38;5;124m by default \u001b[39m\u001b[38;5;124m\"\u001b[39m\n\u001b[1;32m    282\u001b[0m         \u001b[38;5;124m\"\u001b[39m\u001b[38;5;124mas it is likely to crash IPython. If you know what you are doing, \u001b[39m\u001b[38;5;124m\"\u001b[39m\n\u001b[1;32m    283\u001b[0m         \u001b[38;5;124m\"\u001b[39m\u001b[38;5;124myou can use builtins\u001b[39m\u001b[38;5;124m'\u001b[39m\u001b[38;5;124m open.\u001b[39m\u001b[38;5;124m\"\u001b[39m\n\u001b[1;32m    284\u001b[0m     )\n\u001b[0;32m--> 286\u001b[0m \u001b[38;5;28;01mreturn\u001b[39;00m io_open(file, \u001b[38;5;241m*\u001b[39margs, \u001b[38;5;241m*\u001b[39m\u001b[38;5;241m*\u001b[39mkwargs)\n",
      "\u001b[0;31mPermissionError\u001b[0m: [Errno 1] Operation not permitted: '.gitignore'"
     ]
    }
   ],
   "source": [
    "# Bloque 2: Actualizar el archivo .gitignore\n",
    "# Contenido a añadir al archivo .gitignore\n",
    "gitignore_content = \"\"\"\n",
    "# Credenciales y configuraciones sensibles\n",
    "client_secret.json\n",
    "config.json\n",
    "token.json\n",
    "\"\"\"\n",
    "\n",
    "# Añadir el contenido al final del archivo .gitignore\n",
    "with open('.gitignore', 'a') as gitignore_file:\n",
    "    gitignore_file.write(gitignore_content)\n",
    "\n",
    "print(\"Archivo .gitignore actualizado con éxito.\")\n"
   ]
  },
  {
   "cell_type": "code",
   "execution_count": null,
   "id": "ca1c3384-1b4d-4a6a-b945-bad574c94ecf",
   "metadata": {},
   "outputs": [],
   "source": []
  }
 ],
 "metadata": {
  "kernelspec": {
   "display_name": "Python 3 (ipykernel)",
   "language": "python",
   "name": "python3"
  },
  "language_info": {
   "codemirror_mode": {
    "name": "ipython",
    "version": 3
   },
   "file_extension": ".py",
   "mimetype": "text/x-python",
   "name": "python",
   "nbconvert_exporter": "python",
   "pygments_lexer": "ipython3",
   "version": "3.11.5"
  }
 },
 "nbformat": 4,
 "nbformat_minor": 5
}
